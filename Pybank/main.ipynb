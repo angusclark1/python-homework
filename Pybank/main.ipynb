{
 "cells": [
  {
   "cell_type": "code",
   "execution_count": 14,
   "id": "09243bde-18f1-48e4-977c-a571754b6dd2",
   "metadata": {},
   "outputs": [],
   "source": [
    "#Import csv file \n",
    "import pandas as pd\n",
    "from pathlib import Path\n",
    "import csv"
   ]
  },
  {
   "cell_type": "code",
   "execution_count": 10,
   "id": "1782562c-7220-4ff3-888c-93a275804730",
   "metadata": {},
   "outputs": [],
   "source": [
    "#Set the file path\n",
    "csvpath = Path('/Users/angusclark/desktop/MONASH/instructions/pybank/resources/budget_data.csv')\n"
   ]
  },
  {
   "cell_type": "code",
   "execution_count": 15,
   "id": "e89f5579-014f-4633-9ca3-86d12382e3f8",
   "metadata": {},
   "outputs": [],
   "source": [
    "pybank_data = pd.read_csv(csvpath)"
   ]
  },
  {
   "cell_type": "code",
   "execution_count": 17,
   "id": "94dea5c5-05e5-4ef1-b80e-8f5492a99098",
   "metadata": {},
   "outputs": [
    {
     "data": {
      "text/html": [
       "<div>\n",
       "<style scoped>\n",
       "    .dataframe tbody tr th:only-of-type {\n",
       "        vertical-align: middle;\n",
       "    }\n",
       "\n",
       "    .dataframe tbody tr th {\n",
       "        vertical-align: top;\n",
       "    }\n",
       "\n",
       "    .dataframe thead th {\n",
       "        text-align: right;\n",
       "    }\n",
       "</style>\n",
       "<table border=\"1\" class=\"dataframe\">\n",
       "  <thead>\n",
       "    <tr style=\"text-align: right;\">\n",
       "      <th></th>\n",
       "      <th>Date</th>\n",
       "      <th>Profit/Losses</th>\n",
       "    </tr>\n",
       "  </thead>\n",
       "  <tbody>\n",
       "    <tr>\n",
       "      <th>0</th>\n",
       "      <td>Jan-2010</td>\n",
       "      <td>867884</td>\n",
       "    </tr>\n",
       "    <tr>\n",
       "      <th>1</th>\n",
       "      <td>Feb-2010</td>\n",
       "      <td>984655</td>\n",
       "    </tr>\n",
       "    <tr>\n",
       "      <th>2</th>\n",
       "      <td>Mar-2010</td>\n",
       "      <td>322013</td>\n",
       "    </tr>\n",
       "    <tr>\n",
       "      <th>3</th>\n",
       "      <td>Apr-2010</td>\n",
       "      <td>-69417</td>\n",
       "    </tr>\n",
       "    <tr>\n",
       "      <th>4</th>\n",
       "      <td>May-2010</td>\n",
       "      <td>310503</td>\n",
       "    </tr>\n",
       "    <tr>\n",
       "      <th>...</th>\n",
       "      <td>...</td>\n",
       "      <td>...</td>\n",
       "    </tr>\n",
       "    <tr>\n",
       "      <th>81</th>\n",
       "      <td>Oct-2016</td>\n",
       "      <td>102685</td>\n",
       "    </tr>\n",
       "    <tr>\n",
       "      <th>82</th>\n",
       "      <td>Nov-2016</td>\n",
       "      <td>795914</td>\n",
       "    </tr>\n",
       "    <tr>\n",
       "      <th>83</th>\n",
       "      <td>Dec-2016</td>\n",
       "      <td>60988</td>\n",
       "    </tr>\n",
       "    <tr>\n",
       "      <th>84</th>\n",
       "      <td>Jan-2017</td>\n",
       "      <td>138230</td>\n",
       "    </tr>\n",
       "    <tr>\n",
       "      <th>85</th>\n",
       "      <td>Feb-2017</td>\n",
       "      <td>671099</td>\n",
       "    </tr>\n",
       "  </tbody>\n",
       "</table>\n",
       "<p>86 rows × 2 columns</p>\n",
       "</div>"
      ],
      "text/plain": [
       "        Date  Profit/Losses\n",
       "0   Jan-2010         867884\n",
       "1   Feb-2010         984655\n",
       "2   Mar-2010         322013\n",
       "3   Apr-2010         -69417\n",
       "4   May-2010         310503\n",
       "..       ...            ...\n",
       "81  Oct-2016         102685\n",
       "82  Nov-2016         795914\n",
       "83  Dec-2016          60988\n",
       "84  Jan-2017         138230\n",
       "85  Feb-2017         671099\n",
       "\n",
       "[86 rows x 2 columns]"
      ]
     },
     "execution_count": 17,
     "metadata": {},
     "output_type": "execute_result"
    }
   ],
   "source": [
    "pybank_data"
   ]
  },
  {
   "cell_type": "code",
   "execution_count": 18,
   "id": "5ce25cf6-d6e0-48fd-8657-25c1057097ce",
   "metadata": {},
   "outputs": [
    {
     "data": {
      "text/html": [
       "<div>\n",
       "<style scoped>\n",
       "    .dataframe tbody tr th:only-of-type {\n",
       "        vertical-align: middle;\n",
       "    }\n",
       "\n",
       "    .dataframe tbody tr th {\n",
       "        vertical-align: top;\n",
       "    }\n",
       "\n",
       "    .dataframe thead th {\n",
       "        text-align: right;\n",
       "    }\n",
       "</style>\n",
       "<table border=\"1\" class=\"dataframe\">\n",
       "  <thead>\n",
       "    <tr style=\"text-align: right;\">\n",
       "      <th></th>\n",
       "      <th>Date</th>\n",
       "      <th>Profit/Losses</th>\n",
       "    </tr>\n",
       "  </thead>\n",
       "  <tbody>\n",
       "    <tr>\n",
       "      <th>0</th>\n",
       "      <td>False</td>\n",
       "      <td>False</td>\n",
       "    </tr>\n",
       "    <tr>\n",
       "      <th>1</th>\n",
       "      <td>False</td>\n",
       "      <td>False</td>\n",
       "    </tr>\n",
       "    <tr>\n",
       "      <th>2</th>\n",
       "      <td>False</td>\n",
       "      <td>False</td>\n",
       "    </tr>\n",
       "    <tr>\n",
       "      <th>3</th>\n",
       "      <td>False</td>\n",
       "      <td>False</td>\n",
       "    </tr>\n",
       "    <tr>\n",
       "      <th>4</th>\n",
       "      <td>False</td>\n",
       "      <td>False</td>\n",
       "    </tr>\n",
       "    <tr>\n",
       "      <th>...</th>\n",
       "      <td>...</td>\n",
       "      <td>...</td>\n",
       "    </tr>\n",
       "    <tr>\n",
       "      <th>81</th>\n",
       "      <td>False</td>\n",
       "      <td>False</td>\n",
       "    </tr>\n",
       "    <tr>\n",
       "      <th>82</th>\n",
       "      <td>False</td>\n",
       "      <td>False</td>\n",
       "    </tr>\n",
       "    <tr>\n",
       "      <th>83</th>\n",
       "      <td>False</td>\n",
       "      <td>False</td>\n",
       "    </tr>\n",
       "    <tr>\n",
       "      <th>84</th>\n",
       "      <td>False</td>\n",
       "      <td>False</td>\n",
       "    </tr>\n",
       "    <tr>\n",
       "      <th>85</th>\n",
       "      <td>False</td>\n",
       "      <td>False</td>\n",
       "    </tr>\n",
       "  </tbody>\n",
       "</table>\n",
       "<p>86 rows × 2 columns</p>\n",
       "</div>"
      ],
      "text/plain": [
       "     Date  Profit/Losses\n",
       "0   False          False\n",
       "1   False          False\n",
       "2   False          False\n",
       "3   False          False\n",
       "4   False          False\n",
       "..    ...            ...\n",
       "81  False          False\n",
       "82  False          False\n",
       "83  False          False\n",
       "84  False          False\n",
       "85  False          False\n",
       "\n",
       "[86 rows x 2 columns]"
      ]
     },
     "execution_count": 18,
     "metadata": {},
     "output_type": "execute_result"
    }
   ],
   "source": [
    "#Check for any misplaced data\n",
    "pybank_data.isnull()"
   ]
  },
  {
   "cell_type": "code",
   "execution_count": 62,
   "id": "bd798488-7baf-4b8a-8fd9-a6195dc9e140",
   "metadata": {},
   "outputs": [],
   "source": [
    "#Find the total number of months included in the data\n",
    "\n",
    "pybank_data.count\n",
    "\n",
    "#By using this we can establish there is 86 months\n",
    "total_months = 86\n"
   ]
  },
  {
   "cell_type": "code",
   "execution_count": 27,
   "id": "223d92b8-2794-4bff-9cec-5d95d52bbeeb",
   "metadata": {},
   "outputs": [],
   "source": [
    "#Calculate The net total amount of Profit/Losses over the entire period.\n",
    "\n",
    "net_profit = pybank_data.iloc[:,1].sum()"
   ]
  },
  {
   "cell_type": "code",
   "execution_count": 28,
   "id": "ddc22328-bbe5-40aa-86ec-4cf21df7ed17",
   "metadata": {},
   "outputs": [
    {
     "data": {
      "text/plain": [
       "38382578"
      ]
     },
     "execution_count": 28,
     "metadata": {},
     "output_type": "execute_result"
    }
   ],
   "source": [
    "net_profit"
   ]
  },
  {
   "cell_type": "code",
   "execution_count": 29,
   "id": "4207ea12-0ecd-4e45-a094-bca92bb22ec9",
   "metadata": {},
   "outputs": [],
   "source": [
    "#Calculate the average of the changes in Profit/Losses over the entire period.\n",
    "\n",
    "average = pybank_data.iloc[:,1].mean()\n"
   ]
  },
  {
   "cell_type": "code",
   "execution_count": 75,
   "id": "a6c72ecb-0cfc-43a8-bb75-d95a810411eb",
   "metadata": {},
   "outputs": [],
   "source": [
    "average = int(average)"
   ]
  },
  {
   "cell_type": "code",
   "execution_count": 32,
   "id": "2b410314-ab94-4ba4-a005-e3c4061f507c",
   "metadata": {},
   "outputs": [
    {
     "data": {
      "text/plain": [
       "446309"
      ]
     },
     "execution_count": 32,
     "metadata": {},
     "output_type": "execute_result"
    }
   ],
   "source": [
    "#Change into a whole number\n",
    "int(average)"
   ]
  },
  {
   "cell_type": "code",
   "execution_count": 48,
   "id": "36bbd510-422a-4f42-8272-0d7d1f64ac54",
   "metadata": {},
   "outputs": [],
   "source": [
    "#Calculate the greatest increase in profits (date and amount) over the entire period.\n",
    "max_profit = pybank_data.iloc[:,1].max()"
   ]
  },
  {
   "cell_type": "code",
   "execution_count": 49,
   "id": "a94cae9f-5cb9-4820-a9a1-a96d7c30ed32",
   "metadata": {},
   "outputs": [],
   "source": [
    "#Calculate the greatest decrease in losses (date and amount) over the entire period.\n",
    "min_profit = pybank_data.iloc[:,1].min()"
   ]
  },
  {
   "cell_type": "code",
   "execution_count": 73,
   "id": "5243897b-45cb-4876-b704-bcb42a041a68",
   "metadata": {},
   "outputs": [
    {
     "data": {
      "text/plain": [
       "1170593"
      ]
     },
     "execution_count": 73,
     "metadata": {},
     "output_type": "execute_result"
    }
   ],
   "source": [
    "Maximum = pybank_data.iloc[:,1].max()\n",
    "Maximum\n"
   ]
  },
  {
   "cell_type": "code",
   "execution_count": 72,
   "id": "6116bc93-2192-4a08-8bbf-d49d5bb4ae21",
   "metadata": {},
   "outputs": [
    {
     "data": {
      "text/plain": [
       "-1196225"
      ]
     },
     "execution_count": 72,
     "metadata": {},
     "output_type": "execute_result"
    }
   ],
   "source": [
    "Minimum = pybank_data.iloc[:,1].min()\n",
    "Minimum"
   ]
  },
  {
   "cell_type": "code",
   "execution_count": 50,
   "id": "cb6e1738-3423-48a0-ba0c-7a5a34ea30f0",
   "metadata": {},
   "outputs": [],
   "source": [
    "\n",
    "pybank_data.set_index(pybank_data['Profit/Losses'], inplace=True)\n",
    "max_row = pybank_data.loc[max_profit]\n",
    "max_date = max_row.iloc[0]\n",
    "min_row = pybank_data.loc[min_profit]\n",
    "min_date = min_row.iloc[0]"
   ]
  },
  {
   "cell_type": "code",
   "execution_count": 56,
   "id": "50f97773-9466-43b3-abfc-233866e1e258",
   "metadata": {},
   "outputs": [
    {
     "data": {
      "text/plain": [
       "'Feb-2012'"
      ]
     },
     "execution_count": 56,
     "metadata": {},
     "output_type": "execute_result"
    }
   ],
   "source": [
    "max_date"
   ]
  },
  {
   "cell_type": "markdown",
   "id": "0d62802a-b628-40cf-812c-21d96dde7af3",
   "metadata": {},
   "source": []
  },
  {
   "cell_type": "code",
   "execution_count": 57,
   "id": "ebff67e0-ac6d-4471-acff-bda214923d6f",
   "metadata": {},
   "outputs": [
    {
     "data": {
      "text/plain": [
       "'Sep-2013'"
      ]
     },
     "execution_count": 57,
     "metadata": {},
     "output_type": "execute_result"
    }
   ],
   "source": [
    "min_date"
   ]
  },
  {
   "cell_type": "code",
   "execution_count": null,
   "id": "90063c26-f047-4eda-b574-9da7def60dfe",
   "metadata": {},
   "outputs": [],
   "source": []
  },
  {
   "cell_type": "code",
   "execution_count": 76,
   "id": "49551f37-154a-4579-9a40-a68500d49181",
   "metadata": {},
   "outputs": [
    {
     "name": "stdout",
     "output_type": "stream",
     "text": [
      "Financial Analysis\n",
      "--------------------------------------\n",
      "Total Months: 86\n",
      "Net Profit: 38382578\n",
      "Average Change: 446309\n",
      "Greatest Increase in Profits: Feb-2012, $1170593\n",
      "Greatest Decrease in Profits: Sep-2013, $-1196225\n"
     ]
    }
   ],
   "source": [
    "\n",
    "print('Financial Analysis')\n",
    "print('--------------------------------------')\n",
    "print(f'Total Months: {total_months}')\n",
    "print(f'Net Profit: {net_profit}')\n",
    "print(f'Average Change: {average}')\n",
    "print(f'Greatest Increase in Profits: {max_date}, ${Maximum}')\n",
    "print(f'Greatest Decrease in Profits: {min_date}, ${Minimum}')"
   ]
  },
  {
   "cell_type": "code",
   "execution_count": null,
   "id": "230bcfdc-8dcd-4411-81ae-1b37c9f9a734",
   "metadata": {},
   "outputs": [],
   "source": []
  }
 ],
 "metadata": {
  "kernelspec": {
   "display_name": "Python 3 (ipykernel)",
   "language": "python",
   "name": "python3"
  },
  "language_info": {
   "codemirror_mode": {
    "name": "ipython",
    "version": 3
   },
   "file_extension": ".py",
   "mimetype": "text/x-python",
   "name": "python",
   "nbconvert_exporter": "python",
   "pygments_lexer": "ipython3",
   "version": "3.9.12"
  }
 },
 "nbformat": 4,
 "nbformat_minor": 5
}
